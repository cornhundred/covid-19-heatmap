{
 "cells": [
  {
   "cell_type": "code",
   "execution_count": 1,
   "metadata": {},
   "outputs": [
    {
     "name": "stdout",
     "output_type": "stream",
     "text": [
      ">> clustergrammer2 backend version 0.14.0\n"
     ]
    }
   ],
   "source": [
    "import pandas as pd\n",
    "from clustergrammer2 import Network, CGM2, net\n",
    "df = {}"
   ]
  },
  {
   "cell_type": "code",
   "execution_count": 2,
   "metadata": {},
   "outputs": [
    {
     "data": {
      "text/plain": [
       "(273314, 6)"
      ]
     },
     "execution_count": 2,
     "metadata": {},
     "output_type": "execute_result"
    }
   ],
   "source": [
    "# df['ini'] = pd.read_csv('https://raw.githubusercontent.com/nytimes/covid-19-data/master/us-states.csv')\n",
    "df['ini'] = pd.read_csv('https://raw.githubusercontent.com/nytimes/covid-19-data/master/us-counties.csv')\n",
    "df['ini'].shape"
   ]
  },
  {
   "cell_type": "code",
   "execution_count": 3,
   "metadata": {},
   "outputs": [],
   "source": [
    "list_fips = df['ini']['fips'].value_counts().index.tolist()\n",
    "list_fips = [int(x) for x in list_fips]"
   ]
  },
  {
   "cell_type": "code",
   "execution_count": 4,
   "metadata": {},
   "outputs": [],
   "source": [
    "pd.DataFrame(list_fips).to_csv('fips.txt')"
   ]
  },
  {
   "cell_type": "code",
   "execution_count": 5,
   "metadata": {},
   "outputs": [
    {
     "data": {
      "text/html": [
       "<div>\n",
       "<style scoped>\n",
       "    .dataframe tbody tr th:only-of-type {\n",
       "        vertical-align: middle;\n",
       "    }\n",
       "\n",
       "    .dataframe tbody tr th {\n",
       "        vertical-align: top;\n",
       "    }\n",
       "\n",
       "    .dataframe thead th {\n",
       "        text-align: right;\n",
       "    }\n",
       "</style>\n",
       "<table border=\"1\" class=\"dataframe\">\n",
       "  <thead>\n",
       "    <tr style=\"text-align: right;\">\n",
       "      <th></th>\n",
       "      <th>date</th>\n",
       "      <th>county</th>\n",
       "      <th>state</th>\n",
       "      <th>fips</th>\n",
       "      <th>cases</th>\n",
       "      <th>deaths</th>\n",
       "    </tr>\n",
       "  </thead>\n",
       "  <tbody>\n",
       "    <tr>\n",
       "      <th>0</th>\n",
       "      <td>2020-01-21</td>\n",
       "      <td>Snohomish</td>\n",
       "      <td>Washington</td>\n",
       "      <td>53061.0</td>\n",
       "      <td>1</td>\n",
       "      <td>0</td>\n",
       "    </tr>\n",
       "    <tr>\n",
       "      <th>1</th>\n",
       "      <td>2020-01-22</td>\n",
       "      <td>Snohomish</td>\n",
       "      <td>Washington</td>\n",
       "      <td>53061.0</td>\n",
       "      <td>1</td>\n",
       "      <td>0</td>\n",
       "    </tr>\n",
       "    <tr>\n",
       "      <th>2</th>\n",
       "      <td>2020-01-23</td>\n",
       "      <td>Snohomish</td>\n",
       "      <td>Washington</td>\n",
       "      <td>53061.0</td>\n",
       "      <td>1</td>\n",
       "      <td>0</td>\n",
       "    </tr>\n",
       "    <tr>\n",
       "      <th>3</th>\n",
       "      <td>2020-01-24</td>\n",
       "      <td>Cook</td>\n",
       "      <td>Illinois</td>\n",
       "      <td>17031.0</td>\n",
       "      <td>1</td>\n",
       "      <td>0</td>\n",
       "    </tr>\n",
       "    <tr>\n",
       "      <th>4</th>\n",
       "      <td>2020-01-24</td>\n",
       "      <td>Snohomish</td>\n",
       "      <td>Washington</td>\n",
       "      <td>53061.0</td>\n",
       "      <td>1</td>\n",
       "      <td>0</td>\n",
       "    </tr>\n",
       "  </tbody>\n",
       "</table>\n",
       "</div>"
      ],
      "text/plain": [
       "         date     county       state     fips  cases  deaths\n",
       "0  2020-01-21  Snohomish  Washington  53061.0      1       0\n",
       "1  2020-01-22  Snohomish  Washington  53061.0      1       0\n",
       "2  2020-01-23  Snohomish  Washington  53061.0      1       0\n",
       "3  2020-01-24       Cook    Illinois  17031.0      1       0\n",
       "4  2020-01-24  Snohomish  Washington  53061.0      1       0"
      ]
     },
     "execution_count": 5,
     "metadata": {},
     "output_type": "execute_result"
    }
   ],
   "source": [
    "df['ini'].head()"
   ]
  },
  {
   "cell_type": "code",
   "execution_count": null,
   "metadata": {},
   "outputs": [],
   "source": [
    "df['mat'] = pd.DataFrame()\n",
    "for inst_row in df['ini'].index.tolist():\n",
    "    inst_date = df['ini'].loc[inst_row, 'date']\n",
    "    inst_county = df['ini'].loc[inst_row, 'county']\n",
    "    inst_cases = df['ini'].loc[inst_row, 'cases']\n",
    "    \n",
    "    df['mat'].loc[inst_county, inst_date] = inst_cases\n",
    "\n",
    "# enforce date ordering    \n",
    "dates = df['mat'].columns.tolist()\n",
    "sorted(dates)\n",
    "df['mat'] = df['mat'][dates]\n",
    "\n",
    "# fill in missing value\n",
    "net.load_df(df['mat'])\n",
    "net.swap_nan_for_zero()\n",
    "df['mat'] = net.export_df()\n",
    "\n",
    "# calculate new cases in rolling 7 day window\n",
    "list_ser = []\n",
    "for inst_county in df['mat'].index.tolist():\n",
    "    ser_county = df['mat'].loc[inst_county]\n",
    "    ser_roll = ser_county.diff().rolling(7).mean()\n",
    "#     ser_roll = ser_county.diff()\n",
    "    list_ser.append(ser_roll)\n",
    "    \n",
    "df['diff'] = pd.concat(list_ser, axis=1).transpose()\n",
    "\n",
    "# enforce date ordering\n",
    "dates = df['diff'].columns.tolist()\n",
    "sorted(dates)\n",
    "df['diff'] = df['diff'][dates]\n",
    "\n",
    "# get rid of nans\n",
    "net.load_df(df['diff'])\n",
    "net.swap_nan_for_zero()\n",
    "df['diff'] = net.export_df()\n",
    "\n",
    "# drop dates with no change\n",
    "ser_date = df['diff'].sum(axis=0)\n",
    "keep_dates = ser_date[ser_date > 0].index.tolist()\n",
    "df['diff'] = df['diff'][keep_dates]"
   ]
  },
  {
   "cell_type": "code",
   "execution_count": null,
   "metadata": {},
   "outputs": [],
   "source": [
    "df['meta_county'] = pd.DataFrame()\n",
    "for inst_row in df['ini'].index.tolist():\n",
    "    inst_county = df['ini'].loc[inst_row, 'county']\n",
    "    inst_state = df['ini'].loc[inst_row, 'state']    \n",
    "    df['meta_county'].loc[inst_county, 'state'] = inst_state\n",
    "df['meta_county'].shape"
   ]
  },
  {
   "cell_type": "code",
   "execution_count": null,
   "metadata": {},
   "outputs": [],
   "source": [
    "df['mat'].shape"
   ]
  },
  {
   "cell_type": "code",
   "execution_count": null,
   "metadata": {},
   "outputs": [],
   "source": [
    "# net.load_df(df['mat'])\n",
    "# net.normalize(axis='row', norm_type='zscore')\n",
    "# net.widget()"
   ]
  },
  {
   "cell_type": "code",
   "execution_count": null,
   "metadata": {},
   "outputs": [],
   "source": [
    "df['diff'].min(axis=1).sort_values()"
   ]
  },
  {
   "cell_type": "code",
   "execution_count": null,
   "metadata": {},
   "outputs": [],
   "source": [
    "df['diff-norm'] = net.umi_norm(df['diff'].transpose()).transpose()"
   ]
  },
  {
   "cell_type": "code",
   "execution_count": null,
   "metadata": {},
   "outputs": [],
   "source": [
    "# df['meta_county']"
   ]
  },
  {
   "cell_type": "code",
   "execution_count": null,
   "metadata": {},
   "outputs": [],
   "source": [
    "df['diff'].head()"
   ]
  },
  {
   "cell_type": "code",
   "execution_count": null,
   "metadata": {},
   "outputs": [],
   "source": [
    "df['diff-proc'] = df['diff'][keep_dates]"
   ]
  },
  {
   "cell_type": "code",
   "execution_count": null,
   "metadata": {},
   "outputs": [],
   "source": [
    "net = Network(CGM2)\n",
    "net.load_df(df['diff-proc'], meta_row=df['meta_county'])\n",
    "net.normalize(axis='row', norm_type='zscore', z_clip=5)\n",
    "net.swap_nan_for_zero()\n",
    "net.widget()"
   ]
  },
  {
   "cell_type": "code",
   "execution_count": null,
   "metadata": {},
   "outputs": [],
   "source": [
    "# dates = df['mat'].columns.tolist()\n",
    "# sorted(dates)"
   ]
  },
  {
   "cell_type": "code",
   "execution_count": null,
   "metadata": {},
   "outputs": [],
   "source": [
    "from bqplot import *\n",
    "from ipywidgets import Layout\n",
    "\n",
    "import pandas as pd\n",
    "# county_data = pd.read_csv('us-counties.csv')\n",
    "county_data = pd.read_csv('https://raw.githubusercontent.com/nytimes/covid-19-data/master/us-counties.csv')\n",
    "county_data = county_data[county_data['fips'].notna()]\n",
    "county_data['fips'] = county_data['fips'].astype(int)\n",
    "county_data['date'] = pd.to_datetime(county_data['date'])\n",
    "\n",
    "total_county_data = county_data.groupby('fips')['deaths'].sum()\n",
    "total_county_data.index = total_county_data.index.astype(int)\n",
    "\n",
    "sc_geo_county = AlbersUSA()\n",
    "sc_c1_county = ColorScale()\n",
    "\n",
    "color_data_county = dict(zip(total_county_data.index, list(total_county_data)))\n",
    "\n",
    "map_styles_county = {'color': color_data_county,\n",
    "              'scales': {'projection': sc_geo_county, 'color': sc_c1_county}, 'colors': {'default_color': 'Grey'}}\n",
    "\n",
    "axis_county = ColorAxis(scale=sc_c1_county)\n",
    "\n",
    "county_map = Map(map_data=topo_load('map_data/USCountiesMap.json'), **map_styles_county)\n",
    "county_fig = Figure(marks=[county_map], axes=[axis_county],title='US Elections 2008 - Example',\n",
    "                    layout=Layout(min_width='800px', min_height='550px'))\n",
    "\n"
   ]
  },
  {
   "cell_type": "code",
   "execution_count": null,
   "metadata": {},
   "outputs": [],
   "source": [
    "total_county_data.head()"
   ]
  },
  {
   "cell_type": "code",
   "execution_count": null,
   "metadata": {},
   "outputs": [],
   "source": [
    "date_sc = DateScale()\n",
    "count_sc_y = LinearScale(max=np.float(county_data.deaths.max()))\n",
    "\n",
    "date_ax = Axis(scale=date_sc, label='Date')\n",
    "count_ax = Axis(scale=count_sc_y, orientation='vertical', label='Deaths')\n",
    "\n",
    "date_count = Lines(scales={'x': date_sc, 'y': count_sc_y})\n",
    "\n",
    "bar_fig = Figure(marks=[date_count], axes=[date_ax, count_ax],\n",
    "                 layout=Layout(min_width='600px', min_height='400px'))\n",
    "\n",
    "def tooltip_function(name, value):\n",
    "    state = value['data']['id']\n",
    "    count_choice = county_data[county_data['fips'] == state]\n",
    "    state_name = count_choice['state'].iloc[0]\n",
    "    county_name = count_choice['county'].iloc[0]\n",
    "    date_count.x = count_choice['date']\n",
    "    date_count.y = count_choice['deaths']\n",
    "    bar_fig.title = f'{county_name} {state_name}'"
   ]
  },
  {
   "cell_type": "code",
   "execution_count": null,
   "metadata": {},
   "outputs": [],
   "source": [
    "county_fig"
   ]
  },
  {
   "cell_type": "code",
   "execution_count": null,
   "metadata": {},
   "outputs": [],
   "source": []
  },
  {
   "cell_type": "code",
   "execution_count": null,
   "metadata": {},
   "outputs": [],
   "source": []
  },
  {
   "cell_type": "code",
   "execution_count": null,
   "metadata": {},
   "outputs": [],
   "source": []
  },
  {
   "cell_type": "code",
   "execution_count": null,
   "metadata": {},
   "outputs": [],
   "source": []
  }
 ],
 "metadata": {
  "kernelspec": {
   "display_name": "Python 3",
   "language": "python",
   "name": "python3"
  },
  "language_info": {
   "codemirror_mode": {
    "name": "ipython",
    "version": 3
   },
   "file_extension": ".py",
   "mimetype": "text/x-python",
   "name": "python",
   "nbconvert_exporter": "python",
   "pygments_lexer": "ipython3",
   "version": "3.6.5"
  },
  "widgets": {
   "application/vnd.jupyter.widget-state+json": {
    "state": {},
    "version_major": 2,
    "version_minor": 0
   }
  }
 },
 "nbformat": 4,
 "nbformat_minor": 4
}
